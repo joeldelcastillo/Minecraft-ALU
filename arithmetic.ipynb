{
 "cells": [
  {
   "cell_type": "markdown",
   "id": "c4079ebb",
   "metadata": {
    "slideshow": {
     "slide_type": "slide"
    }
   },
   "source": [
    "#### CMP-3004\n",
    "#### Spring 2022\n",
    "### Computer Organization\n",
    "# Minecraft ALU\n"
   ]
  },
  {
   "cell_type": "markdown",
   "id": "f284d104",
   "metadata": {},
   "source": [
    "## Redstone\n",
    "\n",
    "- Operations based on True and False values\n",
    "- When electricity is flowing we'll call it True, otherwise False\n",
    "- True and False can be represented as 1 and 0\n",
    "- Three main operations\n",
    "    - NOT\n",
    "    - AND\n",
    "    - OR"
   ]
  },
  {
   "cell_type": "markdown",
   "id": "0791c13b",
   "metadata": {
    "slideshow": {
     "slide_type": "subslide"
    }
   },
   "source": [
    "## Boolean algebra\n",
    "\n",
    "- Operations based on True and False values\n",
    "- When electricity is flowing we'll call it True, otherwise False\n",
    "- True and False can be represented as 1 and 0\n",
    "- Three main operations\n",
    "    - NOT\n",
    "    - AND\n",
    "    - OR"
   ]
  },
  {
   "cell_type": "markdown",
   "id": "d3a54365",
   "metadata": {
    "slideshow": {
     "slide_type": "subslide"
    }
   },
   "source": [
    "### NOT\n",
    "<img align=\"left\" alt=\"NOT0\" width=\"250px\" height=\"450px\" src=\"./BasicLogic/NOT/NOT0.jpg\" />\n",
    "<img align=\"left\" alt=\"NOT1\" width=\"250px\" height=\"450px\" src=\"./BasicLogic/NOT/NOT1.jpg\" />\n",
    "\n"
   ]
  },
  {
   "cell_type": "markdown",
   "id": "9dcaf571",
   "metadata": {
    "slideshow": {
     "slide_type": "subslide"
    }
   },
   "source": [
    "## AND\n",
    "\n",
    "### Theory\n",
    "\n",
    "<img align=\"left\" alt=\"AND00\" width=\"600px\" src=\"./BasicLogic/AND/AND.png\" />\n",
    "\n"
   ]
  },
  {
   "cell_type": "markdown",
   "id": "b92babd0",
   "metadata": {},
   "source": [
    "### Implementation\n",
    "\n",
    "\n",
    "<img align=\"left\" alt=\"AND00\" width=\"600px\" src=\"./BasicLogic/AND/ANDI.png\" />\n",
    "\n"
   ]
  },
  {
   "cell_type": "markdown",
   "id": "d3a54366",
   "metadata": {
    "slideshow": {
     "slide_type": "subslide"
    }
   },
   "source": [
    "## OR\n",
    "\n",
    "### Theory\n",
    "\n",
    "<img align=\"left\" alt=\"OR00\" width=\"600px\" src=\"./BasicLogic/OR/OR.png\" />\n",
    "\n"
   ]
  },
  {
   "cell_type": "markdown",
   "id": "d3a54367",
   "metadata": {
    "slideshow": {
     "slide_type": "subslide"
    }
   },
   "source": [
    "### Implementation\n",
    "\n",
    "<img align=\"left\" alt=\"OR00\" width=\"600px\" src=\"./BasicLogic/OR/ORI.png\" />\n",
    "\n"
   ]
  },
  {
   "cell_type": "markdown",
   "id": "d3a54368",
   "metadata": {
    "slideshow": {
     "slide_type": "subslide"
    }
   },
   "source": [
    "## XOR\n",
    "\n",
    "### Theory\n",
    "\n",
    "<img align=\"left\" alt=\"OR00\" width=\"600px\" src=\"./BasicLogic/XOR/XOR.png\" />\n",
    "\n"
   ]
  },
  {
   "cell_type": "markdown",
   "id": "d3a54369",
   "metadata": {
    "slideshow": {
     "slide_type": "subslide"
    }
   },
   "source": [
    "### Implementation\n",
    "\n",
    "<img align=\"left\" alt=\"OR00\" width=\"600px\" src=\"./BasicLogic/XOR/XORI.png\" />\n",
    "\n"
   ]
  },
  {
   "cell_type": "markdown",
   "id": "d3a54360",
   "metadata": {
    "slideshow": {
     "slide_type": "subslide"
    }
   },
   "source": [
    "## HALF Adder\n",
    "\n",
    "### Theory\n",
    "\n",
    "<img align=\"left\" alt=\"OR00\" width=\"600px\" src=\"./BasicLogic/HALF/HALF.png\" />\n",
    "\n"
   ]
  },
  {
   "cell_type": "markdown",
   "id": "d3a54361",
   "metadata": {
    "slideshow": {
     "slide_type": "subslide"
    }
   },
   "source": [
    "### Implementation\n",
    "\n",
    "<img align=\"left\" alt=\"OR00\" width=\"600px\" src=\"./BasicLogic/HALF/HALFI.png\" />\n",
    "\n"
   ]
  },
  {
   "cell_type": "markdown",
   "id": "d3a54362",
   "metadata": {
    "slideshow": {
     "slide_type": "subslide"
    }
   },
   "source": [
    "## FULL Adder\n",
    "\n",
    "### Theory\n",
    "\n",
    "<img align=\"left\" alt=\"OR00\" width=\"600px\" src=\"./BasicLogic/FULL/FULL.png\" />\n",
    "\n"
   ]
  },
  {
   "cell_type": "markdown",
   "id": "d3a54363",
   "metadata": {
    "slideshow": {
     "slide_type": "subslide"
    }
   },
   "source": [
    "### Implementation\n",
    "\n",
    "<img align=\"left\" alt=\"OR00\" width=\"600px\" src=\"./BasicLogic/FULL/10.png\" />\n",
    "<img align=\"left\" alt=\"OR00\" width=\"600px\" src=\"./BasicLogic/FULL/11.png\" />\n",
    "\n"
   ]
  },
  {
   "cell_type": "markdown",
   "id": "da0dd844",
   "metadata": {
    "slideshow": {
     "slide_type": "slide"
    }
   },
   "source": [
    "### 4-bit adder\n",
    "\n",
    "![](./4bit-adder.png)\n",
    "\n",
    "If there is a carry out that goes into the 5th bit, the sum is too large to fit into 4 bits\n",
    "- This is known as an **overflow**\n",
    "- An overflow occurs when the result requires more bits than the number of bits being used\n",
    "- This can cause errors or unexpected behavior\n",
    "\n",
    "Example: The original Pac-Man game used 8 bits to keep track of levels. When getting to the 256th level, it will cause an overflow, leading to issues.\n",
    "\n",
    "https://pacman.fandom.com/wiki/Map_256_Glitch\n",
    "\n",
    "**How do we avoid overflows?**\n",
    "\n",
    "**How do we do a 8-bit or 16-bit adder?**"
   ]
  },
  {
   "cell_type": "markdown",
   "id": "162e915e",
   "metadata": {
    "slideshow": {
     "slide_type": "subslide"
    }
   },
   "source": [
    "## Signed addition and substraction\n",
    "\n",
    "![](./comp2.png)\n",
    "\n",
    "Note that numbers starting at 1 followed with only 0's result on the same representation for positive and negative\n",
    "- This cases need to be carefully considered"
   ]
  },
  {
   "cell_type": "markdown",
   "id": "bf5e2bdc",
   "metadata": {
    "slideshow": {
     "slide_type": "subslide"
    }
   },
   "source": [
    "## Signed addition and substraction\n",
    "\n",
    "If we use sign-magnitude:\n",
    "- Discard the signs\n",
    "- Perform the operation (addition or substraction)\n",
    "- Compute the sign\n",
    "\n",
    "If we use two's complement representation:\n",
    "- If substraction, get the two's complement of the value to be substracted\n",
    "- Perform the addition\n",
    "- Result contains the right sign unless an overflow occurred\n"
   ]
  },
  {
   "cell_type": "markdown",
   "id": "27d41f72",
   "metadata": {
    "slideshow": {
     "slide_type": "subslide"
    }
   },
   "source": [
    "### Signed addition and substraction\n",
    "\n",
    "![](./subs.png)\n",
    "\n",
    "- (a)  and (d) are straightforward\n",
    "- (b), (e), (f) and (g) have an overflow from bit 3.\n",
    "    - Discard the overflow, result is correct\n",
    "- (c) and (f) result exceeded the allowable range of 4-bit\n",
    "    - Discard these out-of-the-range cases\n"
   ]
  },
  {
   "cell_type": "markdown",
   "id": "04b93fed",
   "metadata": {
    "slideshow": {
     "slide_type": "subslide"
    }
   },
   "source": [
    "### Other arithmetic operations in the ALU\n",
    "\n",
    "- ADD\n",
    "- ADD with carry\n",
    "- SUBSTRACT\n",
    "- SUBSTRACT with borrow\n",
    "- NEGATE\n",
    "- INCREMENT\n",
    "- DECREMENT\n",
    "- PASS THROUGH"
   ]
  },
  {
   "cell_type": "markdown",
   "id": "24b00c3c",
   "metadata": {
    "slideshow": {
     "slide_type": "subslide"
    }
   },
   "source": [
    "### ALU\n",
    "\n",
    "![](./alu.png)"
   ]
  }
 ],
 "metadata": {
  "celltoolbar": "Slideshow",
  "kernelspec": {
   "display_name": "Python 3",
   "language": "python",
   "name": "python3"
  },
  "language_info": {
   "codemirror_mode": {
    "name": "ipython",
    "version": 3
   },
   "file_extension": ".py",
   "mimetype": "text/x-python",
   "name": "python",
   "nbconvert_exporter": "python",
   "pygments_lexer": "ipython3",
   "version": "3.10.2"
  }
 },
 "nbformat": 4,
 "nbformat_minor": 5
}
